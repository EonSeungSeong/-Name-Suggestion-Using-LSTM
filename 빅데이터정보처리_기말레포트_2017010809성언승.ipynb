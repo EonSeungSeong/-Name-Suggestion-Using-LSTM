{
 "cells": [
  {
   "cell_type": "code",
   "execution_count": 38,
   "id": "cfc82fb5",
   "metadata": {},
   "outputs": [
    {
     "data": {
      "text/plain": [
       "'\\n전반적인 코드는 깃허브 소스코드를 사용하였으며 버전에 따른 에러 및 스파게티코드 위주로 수정을 진행하였고, \\n그래프를 나타내기 위해 코드를 추가하였습니다.\\n이번 레포트의 목표는 LSTM을 이해하고 외국인뿐만아니라 한국인 데이터를 크롤링하여 \\n영문 한국인 이름 데이터를 학습시켰을 때는 어떤 결과가 나오는지 알아봤습니다 . \\n'"
      ]
     },
     "execution_count": 38,
     "metadata": {},
     "output_type": "execute_result"
    }
   ],
   "source": [
    "\"\"\"\n",
    "전반적인 코드는 깃허브 소스코드를 사용하였으며 버전에 따른 에러 및 스파게티코드 위주로 수정을 진행하였고, \n",
    "그래프를 나타내기 위해 코드를 추가하였습니다.\n",
    "이번 레포트의 목표는 LSTM을 이해하고 외국인뿐만아니라 한국인 데이터를 크롤링하여 \n",
    "영문 한국인 이름 데이터를 학습시켰을 때는 어떤 결과가 나오는지 알아봤습니다 . \n",
    "\"\"\""
   ]
  },
  {
   "cell_type": "code",
   "execution_count": 39,
   "id": "f7f98a44",
   "metadata": {},
   "outputs": [],
   "source": [
    "#1.데이터셋 소개"
   ]
  },
  {
   "cell_type": "code",
   "execution_count": 40,
   "id": "c35eafcd",
   "metadata": {},
   "outputs": [],
   "source": [
    "import pandas as pd\n",
    "\"\"\"\n",
    "data_name폴더 생성 후 폴더안에 train 및 validation 데이터 셋 저장\n",
    "\"\"\"\n",
    "train_df = pd.read_csv('data_name/train_dataset.csv')\n",
    "val_df = pd.read_csv('data_name/val_dataset.csv')"
   ]
  },
  {
   "cell_type": "code",
   "execution_count": 41,
   "id": "57fba3f4",
   "metadata": {},
   "outputs": [],
   "source": [
    "# #분석에 불필요한 Unknown제거\n",
    "# index=train_df[train_df['origin']=='Unknown'].index\n",
    "# train_df=train_df.drop(index)\n",
    "# index_val=val_df[val_df['origin']=='Unknown'].index\n",
    "# val_df=val_df.drop(index_val)"
   ]
  },
  {
   "cell_type": "code",
   "execution_count": 42,
   "id": "8534fd8c",
   "metadata": {},
   "outputs": [],
   "source": [
    "#train_df.to_csv(\"D:\\\\Anaconda\\\\report\\\\data_name\\\\train_dataset2.csv\",index=False)"
   ]
  },
  {
   "cell_type": "code",
   "execution_count": 43,
   "id": "d9284066",
   "metadata": {},
   "outputs": [
    {
     "name": "stdout",
     "output_type": "stream",
     "text": [
      "33953 3878\n"
     ]
    },
    {
     "data": {
      "text/plain": [
       "origin\n",
       "African              95\n",
       "American            666\n",
       "Arabic              802\n",
       "Aramaic             131\n",
       "Armenian              2\n",
       "Australian            3\n",
       "Babylonian           13\n",
       "Basque                8\n",
       "British            4205\n",
       "Cambodian             2\n",
       "Celtic              113\n",
       "Chinese              19\n",
       "Czech                34\n",
       "Danish               66\n",
       "Dutch                16\n",
       "Egyptian             13\n",
       "French             1311\n",
       "Gaelic              269\n",
       "German             2354\n",
       "Ghanaian             39\n",
       "Greek              3314\n",
       "Hawaiian            123\n",
       "Hebrew             3188\n",
       "Hungarian            65\n",
       "Indian              262\n",
       "Irish              1133\n",
       "Italian             371\n",
       "Japanese            125\n",
       "Korea               344\n",
       "Latin              3969\n",
       "Modern               75\n",
       "Native American     120\n",
       "Nigerian             12\n",
       "Norse               284\n",
       "Norwegian            18\n",
       "Persian             133\n",
       "Polish               48\n",
       "Portuguese           12\n",
       "Russian             187\n",
       "Sanskrit            150\n",
       "Scandinavian        344\n",
       "Scottish            365\n",
       "Slavic              242\n",
       "Spanish             976\n",
       "Swahili              37\n",
       "Swedish              26\n",
       "Turkish               8\n",
       "Uncertain             5\n",
       "Unknown            7161\n",
       "Vietnamese           10\n",
       "Welsh               635\n",
       "Yiddish              50\n",
       "Name: babyname, dtype: int64"
      ]
     },
     "execution_count": 43,
     "metadata": {},
     "output_type": "execute_result"
    }
   ],
   "source": [
    "print(len(train_df), len(val_df))\n",
    "#train_df.tail()\n",
    "#train_df.groupby('sex').babyname.count()\n",
    "train_df.groupby('origin').babyname.count()"
   ]
  },
  {
   "cell_type": "code",
   "execution_count": 44,
   "id": "201934b0",
   "metadata": {},
   "outputs": [],
   "source": [
    "#pip install torchtext"
   ]
  },
  {
   "cell_type": "code",
   "execution_count": 45,
   "id": "c03e3cb9",
   "metadata": {},
   "outputs": [
    {
     "data": {
      "text/plain": [
       "['e', 'o', 'n', 's', 'e', 'u', 'n', 'g']"
      ]
     },
     "execution_count": 45,
     "metadata": {},
     "output_type": "execute_result"
    }
   ],
   "source": [
    "from torchtext.legacy import data #현재 버전에서 .legacy해줘야 사용가능합니다\n",
    "device = \"cpu\" \n",
    "def tokenizer(text): #데이터 전처리를 위해 알파벳으로 분리하며 리스트로 만들어주는 함수 선언\n",
    "    return list(text.lower())\n",
    "tokenizer(\"EonSeung\")"
   ]
  },
  {
   "cell_type": "code",
   "execution_count": 46,
   "id": "10458fd4",
   "metadata": {},
   "outputs": [],
   "source": [
    "#원핫 함수를 통해 알파벳을 0과 1로 구성된 텐서로 변경\n",
    "def onehot(alist, vocab):\n",
    "    #알파벳에 해당하는 인덱스에 1삽입\n",
    "    _tensor = torch.tensor(alist).data.sub_(1).unsqueeze(1) #.view(-1,1)와 동일\n",
    "    #_tensor = alist.clone().detach().data.sub_(1).unsqueeze(1)\n",
    "    \n",
    "    #행: 이름을 구성하는 알파벳 수 \n",
    "    #열: 이름을 구성하는 문자열 수: 알파벳+ eos,bos등 -->35개\n",
    "    _onehot = torch.zeros((len(alist), len(vocab) - 1), dtype=torch.float)\n",
    "    \n",
    "    _onehot.scatter_(1, _tensor, 1)\n",
    "    return _onehot"
   ]
  },
  {
   "cell_type": "code",
   "execution_count": 47,
   "id": "2f01a66a",
   "metadata": {},
   "outputs": [],
   "source": [
    "class DataLoader(object):\n",
    "\n",
    "    def __init__(self, data_dir, batch_size):\n",
    "        #\n",
    "        self.BABYNAME = data.Field(sequential=True, tokenize=tokenizer,\n",
    "                                   batch_first=True, init_token=\"<bos>\", eos_token=\"<eos>\")\n",
    "        \n",
    "        self.SEX = data.Field(sequential=False, use_vocab=True, postprocessing=onehot)\n",
    "        self.ORIGIN = data.Field(sequential=False, use_vocab=True, postprocessing=onehot)\n",
    "\n",
    "        self.train_ds, self.val_ds = data.TabularDataset.splits(\n",
    "            #수정\n",
    "            path=data_dir, skip_header=True, train='train_dataset.csv',\n",
    "            validation='val_dataset.csv', format='csv',\n",
    "            fields=[('babyname', self.BABYNAME), ('sex', self.SEX), ('origin', self.ORIGIN)]\n",
    "        )\n",
    "        #글자종류 count하기 위해 함수선언\n",
    "        self.build_vocab()\n",
    "\n",
    "        self.train_iter, self.val_iter = data.BucketIterator.splits(\n",
    "            (self.train_ds, self.val_ds), batch_sizes=(batch_size, batch_size), device=device,\n",
    "            repeat=False, sort_key=lambda x: len(x.babyname))\n",
    "\n",
    "    def build_vocab(self):\n",
    "        self.BABYNAME.build_vocab(self.train_ds, self.val_ds)\n",
    "        self.SEX.build_vocab(self.train_ds, self.val_ds)\n",
    "        self.ORIGIN.build_vocab(self.train_ds, self.val_ds)\n",
    "        print(\"정상적으로 실행되었습니다!\")"
   ]
  },
  {
   "cell_type": "code",
   "execution_count": 48,
   "id": "923ecb0f",
   "metadata": {},
   "outputs": [
    {
     "name": "stdout",
     "output_type": "stream",
     "text": [
      "정상적으로 실행되었습니다!\n"
     ]
    }
   ],
   "source": [
    "import torch\n",
    "#data_dir ='data_name/full_version'\n",
    "data_dir ='data_name'\n",
    "batch_size = 16\n",
    "data_loader = DataLoader(data_dir, batch_size)\n",
    "sample = next(iter(data_loader.train_iter))\n",
    "sex = sample.sex.float()\n",
    "origin = sample.origin.float()"
   ]
  },
  {
   "cell_type": "code",
   "execution_count": 49,
   "id": "d6fb1f3f",
   "metadata": {
    "scrolled": true
   },
   "outputs": [
    {
     "name": "stdout",
     "output_type": "stream",
     "text": [
      "torch.Size([16, 2])\n",
      "torch.Size([16, 52])\n",
      "defaultdict(<bound method Vocab._default_unk_index of <torchtext.legacy.vocab.Vocab object at 0x00000209F2166370>>, {'<unk>': 0, '<pad>': 1, '<bos>': 2, '<eos>': 3, 'a': 4, 'e': 5, 'n': 6, 'i': 7, 'l': 8, 'r': 9, 'o': 10, 's': 11, 't': 12, 'h': 13, 'd': 14, 'y': 15, 'm': 16, 'c': 17, 'u': 18, 'k': 19, 'b': 20, 'g': 21, 'j': 22, 'v': 23, 'p': 24, 'f': 25, 'w': 26, 'z': 27, 'q': 28, 'x': 29, ' ': 30, '-': 31, \"'\": 32, '.': 33, ',': 34})\n"
     ]
    }
   ],
   "source": [
    "print(sex.size())\n",
    "print(origin.size())\n",
    "print(data_loader.BABYNAME.vocab.stoi)"
   ]
  },
  {
   "cell_type": "code",
   "execution_count": 50,
   "id": "1c50bafb",
   "metadata": {},
   "outputs": [],
   "source": [
    "#input target data 선언\n",
    "inputs = sample.babyname[:, :-1] #처음부터 마지막 직전까지\n",
    "targets = sample.babyname[:, 1:] #둘째부터 마지막까지"
   ]
  },
  {
   "cell_type": "code",
   "execution_count": 51,
   "id": "ea165401",
   "metadata": {
    "scrolled": false
   },
   "outputs": [
    {
     "data": {
      "text/plain": [
       "tensor([[ 2,  5, 12, 13,  8,  7,  6, 14,  4,  3],\n",
       "        [ 2, 20,  9,  4,  6, 17,  4,  3,  1,  1],\n",
       "        [ 2,  5, 14,  9,  7, 17, 19,  3,  1,  1],\n",
       "        [ 2, 11, 12,  5, 24, 13,  4,  6,  5, 15],\n",
       "        [ 2, 26, 15,  8,  4,  6,  3,  1,  1,  1],\n",
       "        [ 2, 16,  4, 17, 21, 18,  7,  9,  5,  3],\n",
       "        [ 2, 19, 18, 16,  4,  9,  3,  1,  1,  1],\n",
       "        [ 2, 17,  4, 12, 13,  9,  7,  6,  6,  3],\n",
       "        [ 2, 12,  7, 25, 25,  7,  6, 15,  3,  1],\n",
       "        [ 2,  4, 23, 14, 10, 12, 15,  4,  3,  1],\n",
       "        [ 2, 23, 10,  6,  6,  5, 11, 11,  4,  3],\n",
       "        [ 2, 17,  4,  7, 11,  7, 14,  5,  3,  1],\n",
       "        [ 2, 12,  4, 16,  4, 11,  7,  6,  5,  3],\n",
       "        [ 2, 10, 16,  5,  9, 10,  3,  1,  1,  1],\n",
       "        [ 2, 19,  7,  9, 11, 12,  7,  6,  3,  1],\n",
       "        [ 2,  4,  8, 16,  5, 14,  4, 13,  3,  1]])"
      ]
     },
     "execution_count": 51,
     "metadata": {},
     "output_type": "execute_result"
    }
   ],
   "source": [
    "#각행의 첫번째 인덱스 -> 2로시작 2(<bos>)\n",
    "inputs"
   ]
  },
  {
   "cell_type": "code",
   "execution_count": 52,
   "id": "8b4e8833",
   "metadata": {},
   "outputs": [
    {
     "data": {
      "text/plain": [
       "tensor([[ 5, 12, 13,  8,  7,  6, 14,  4,  3,  1],\n",
       "        [20,  9,  4,  6, 17,  4,  3,  1,  1,  1],\n",
       "        [ 5, 14,  9,  7, 17, 19,  3,  1,  1,  1],\n",
       "        [11, 12,  5, 24, 13,  4,  6,  5, 15,  3],\n",
       "        [26, 15,  8,  4,  6,  3,  1,  1,  1,  1],\n",
       "        [16,  4, 17, 21, 18,  7,  9,  5,  3,  1],\n",
       "        [19, 18, 16,  4,  9,  3,  1,  1,  1,  1],\n",
       "        [17,  4, 12, 13,  9,  7,  6,  6,  3,  1],\n",
       "        [12,  7, 25, 25,  7,  6, 15,  3,  1,  1],\n",
       "        [ 4, 23, 14, 10, 12, 15,  4,  3,  1,  1],\n",
       "        [23, 10,  6,  6,  5, 11, 11,  4,  3,  1],\n",
       "        [17,  4,  7, 11,  7, 14,  5,  3,  1,  1],\n",
       "        [12,  4, 16,  4, 11,  7,  6,  5,  3,  1],\n",
       "        [10, 16,  5,  9, 10,  3,  1,  1,  1,  1],\n",
       "        [19,  7,  9, 11, 12,  7,  6,  3,  1,  1],\n",
       "        [ 4,  8, 16,  5, 14,  4, 13,  3,  1,  1]])"
      ]
     },
     "execution_count": 52,
     "metadata": {},
     "output_type": "execute_result"
    }
   ],
   "source": [
    "#각행의 마지막 인덱스 -> 1또는 3으로시작 1(<pad>) 3(<eos>)\n",
    "targets"
   ]
  },
  {
   "cell_type": "code",
   "execution_count": 53,
   "id": "0608e056",
   "metadata": {},
   "outputs": [
    {
     "name": "stdout",
     "output_type": "stream",
     "text": [
      "sample_input: torch.Size([16])\n",
      "embed_output torch.Size([16, 100])\n"
     ]
    }
   ],
   "source": [
    "import torch.nn as nn\n",
    "#num_embeddings=35 이름을 구성하는 글자의 수\n",
    "#embedding_dim=100 임베딩 차원-> 100차원\n",
    "embedding_layer = nn.Embedding(num_embeddings=35, embedding_dim=100)\n",
    "\n",
    "# input 에서 첫 글자를 선택해 레이어에 집어넣는다.\n",
    "sample_input = inputs[:, 0]\n",
    "print(\"sample_input:\", sample_input.size())\n",
    "\n",
    "embed_output = embedding_layer(inputs[:, 0])\n",
    "\n",
    "#첫 글자를 100차원의 어떤 숫자로 표현한다.\n",
    "print(\"embed_output\", embed_output.size())"
   ]
  },
  {
   "cell_type": "code",
   "execution_count": 54,
   "id": "14de5e50",
   "metadata": {
    "scrolled": true
   },
   "outputs": [
    {
     "name": "stdout",
     "output_type": "stream",
     "text": [
      "embed_output:  torch.Size([16, 100])\n",
      "origin:  torch.Size([16, 52])\n",
      "sex:  torch.Size([16, 2])\n"
     ]
    }
   ],
   "source": [
    "print(\"embed_output: \", embed_output.size())#이름\n",
    "print(\"origin: \", origin.size())#국가\n",
    "print(\"sex: \", sex.size())#성별"
   ]
  },
  {
   "cell_type": "code",
   "execution_count": 55,
   "id": "ea5bcece",
   "metadata": {},
   "outputs": [
    {
     "name": "stdout",
     "output_type": "stream",
     "text": [
      "inputs_combined: torch.Size([16, 154])\n"
     ]
    }
   ],
   "source": [
    "inputs_combined = torch.cat((embed_output, origin, sex), dim=1)\n",
    "print(\"inputs_combined:\", inputs_combined.size())"
   ]
  },
  {
   "cell_type": "code",
   "execution_count": 56,
   "id": "a7cb2cb4",
   "metadata": {
    "scrolled": true
   },
   "outputs": [
    {
     "data": {
      "text/plain": [
       "tensor([-1.1590,  0.9671, -0.7479,  1.0814,  0.4326], grad_fn=<SliceBackward0>)"
      ]
     },
     "execution_count": 56,
     "metadata": {},
     "output_type": "execute_result"
    }
   ],
   "source": [
    "inputs_combined[0][0:5]"
   ]
  },
  {
   "cell_type": "code",
   "execution_count": 57,
   "id": "52ad45bc",
   "metadata": {
    "scrolled": false
   },
   "outputs": [
    {
     "data": {
      "text/plain": [
       "torch.Size([16, 154])"
      ]
     },
     "execution_count": 57,
     "metadata": {},
     "output_type": "execute_result"
    }
   ],
   "source": [
    "inputs_combined.size()"
   ]
  },
  {
   "cell_type": "code",
   "execution_count": 58,
   "id": "f34952ff",
   "metadata": {},
   "outputs": [],
   "source": [
    "#LSTM"
   ]
  },
  {
   "cell_type": "code",
   "execution_count": 59,
   "id": "69fac565",
   "metadata": {},
   "outputs": [],
   "source": [
    "lstm = nn.LSTM(input_size=154, hidden_size=200, batch_first=True) \n",
    "#batch_first=True-> 데이터 차원 혼동 방지위해 사용"
   ]
  },
  {
   "cell_type": "code",
   "execution_count": 60,
   "id": "c79300f3",
   "metadata": {},
   "outputs": [],
   "source": [
    "hx = torch.zeros(1, 16, 200) #history -> 정보누적됨\n",
    "cx = torch.zeros(1, 16, 200) #Cell state 텐서"
   ]
  },
  {
   "cell_type": "code",
   "execution_count": 61,
   "id": "dc427445",
   "metadata": {},
   "outputs": [],
   "source": [
    "lstm_out, (hx, cx) = lstm.forward(inputs_combined.unsqueeze(1), (hx, cx))"
   ]
  },
  {
   "cell_type": "code",
   "execution_count": 62,
   "id": "54d2f7c5",
   "metadata": {},
   "outputs": [
    {
     "data": {
      "text/plain": [
       "torch.Size([16, 1, 200])"
      ]
     },
     "execution_count": 62,
     "metadata": {},
     "output_type": "execute_result"
    }
   ],
   "source": [
    "lstm_out.size() #batch_first=True로 인하여 batch값이 먼저나옴"
   ]
  },
  {
   "cell_type": "code",
   "execution_count": 63,
   "id": "3878f3d9",
   "metadata": {},
   "outputs": [],
   "source": [
    "#lstm.weight_ih_l0.size(), lstm.weight_hh_l0.size()"
   ]
  },
  {
   "cell_type": "code",
   "execution_count": 64,
   "id": "0e5917d9",
   "metadata": {},
   "outputs": [],
   "source": [
    "fc_inter = nn.Linear(200, 300)\n",
    "#오버피팅 방지\n",
    "drop = nn.Dropout(0.5)\n",
    "decoder = nn.Linear(300, 35)"
   ]
  },
  {
   "cell_type": "code",
   "execution_count": 65,
   "id": "7e8d7dd8",
   "metadata": {
    "scrolled": true
   },
   "outputs": [
    {
     "name": "stdout",
     "output_type": "stream",
     "text": [
      "torch.Size([16, 300])\n"
     ]
    }
   ],
   "source": [
    "fc_inter_out = fc_inter.forward(lstm_out.squeeze(1))\n",
    "print(fc_inter_out.size())\n",
    "drop_out = drop.forward(fc_inter_out)\n",
    "decoder_out = decoder.forward(drop_out)"
   ]
  },
  {
   "cell_type": "code",
   "execution_count": 66,
   "id": "8f98e70e",
   "metadata": {},
   "outputs": [
    {
     "data": {
      "text/plain": [
       "torch.Size([16, 35])"
      ]
     },
     "execution_count": 66,
     "metadata": {},
     "output_type": "execute_result"
    }
   ],
   "source": [
    "decoder_out.size()"
   ]
  },
  {
   "cell_type": "code",
   "execution_count": 67,
   "id": "86959e0c",
   "metadata": {},
   "outputs": [
    {
     "data": {
      "text/plain": [
       "tensor([-0.0509, -0.0119,  0.0335,  0.0835,  0.0072,  0.0114, -0.0737, -0.0974,\n",
       "         0.0270,  0.0186,  0.0286,  0.0364, -0.0868, -0.0363,  0.0505, -0.0110,\n",
       "         0.0173, -0.0176,  0.0388, -0.0367, -0.0541,  0.0585,  0.0544, -0.0109,\n",
       "         0.0674,  0.0140, -0.0497,  0.1043, -0.0171, -0.0558,  0.0560,  0.0424,\n",
       "         0.0762,  0.1241, -0.0073], grad_fn=<SelectBackward0>)"
      ]
     },
     "execution_count": 67,
     "metadata": {},
     "output_type": "execute_result"
    }
   ],
   "source": [
    "decoder_out[0] #구성된 35개 글자로 나옴"
   ]
  },
  {
   "cell_type": "code",
   "execution_count": 68,
   "id": "58d8d6e2",
   "metadata": {},
   "outputs": [],
   "source": [
    "#import torch.nn.functional as F\n",
    "# softmax_out = F.softmax(decoder_out, dim=1)\n",
    "# softmax_out[0]"
   ]
  },
  {
   "cell_type": "code",
   "execution_count": 69,
   "id": "4c63d9f3",
   "metadata": {},
   "outputs": [],
   "source": [
    "#softmax_out[0].sum()"
   ]
  },
  {
   "cell_type": "code",
   "execution_count": 70,
   "id": "eba4985e",
   "metadata": {},
   "outputs": [],
   "source": [
    "import torch\n",
    "import torch.nn as nn\n",
    "import torch.nn.functional as F\n",
    "\n",
    "class Net(nn.Module):\n",
    "    def __init__(self, vocab_size, embedding_dim,\n",
    "                 nb_sex, nb_origin,\n",
    "                 lstm_nb_layers, lstm_hidden_dim,\n",
    "                fc_out, dropout_p):\n",
    "        super(Net, self).__init__()\n",
    "\n",
    "        self.vocab_size = vocab_size\n",
    "        self.embedding_dim = embedding_dim\n",
    "        self.nb_sex = nb_sex\n",
    "        self.nb_origin = nb_origin\n",
    "        self.lstm_nb_layers = lstm_nb_layers\n",
    "        self.lstm_hidden_dim = lstm_hidden_dim\n",
    "        self.fc_out = fc_out\n",
    "        self.dropout_p = dropout_p\n",
    "        self.device =\"cpu\"\n",
    "        #이전 선언했던 임베딩, 모델 선언\n",
    "        self.embedding = nn.Embedding(vocab_size, embedding_dim)\n",
    "        self.lstm = nn.LSTM(embedding_dim + nb_sex + nb_origin,\n",
    "                            lstm_hidden_dim, num_layers=lstm_nb_layers,\n",
    "                            batch_first=True)\n",
    "        self.fc_inter = nn.Linear(lstm_hidden_dim, fc_out)\n",
    "        #오버피팅 방지를 위해 드랍아웃 선언\n",
    "        self.dropout = nn.Dropout(dropout_p)\n",
    "        self.decoder = nn.Linear(fc_out, vocab_size)\n",
    "\n",
    "    def init_hidden(self, batch_size):\n",
    "        return (torch.zeros(\n",
    "                    self.lstm_nb_layers,\n",
    "                    batch_size,\n",
    "                    self.lstm_hidden_dim\n",
    "                ).float().to(self.device),\n",
    "                torch.zeros(\n",
    "                    self.lstm_nb_layers,\n",
    "                    batch_size,\n",
    "                    self.lstm_hidden_dim\n",
    "                ).float().to(self.device))\n",
    "\n",
    "    def forward(self, origin, sex, inputs, hidden, isDebug=False):\n",
    "        if isDebug: print(\"origin:\", origin.size())\n",
    "        if isDebug: print(\"sex:\", sex.size())\n",
    "        if isDebug: print(\"inputs:\", inputs.size())\n",
    "\n",
    "        embed = self.embedding(inputs)\n",
    "        if isDebug: print(\"embed:\", embed.size())\n",
    "\n",
    "        inputs_combined = torch.cat([origin, sex, embed], dim=1)\n",
    "        if isDebug: print(\"inputs_combined:\", inputs_combined.size())\n",
    "\n",
    "        lstm_out, hidden = self.lstm(inputs_combined.unsqueeze(1), hidden)\n",
    "        if isDebug: print(\"lstm_out:\", lstm_out.size())\n",
    "        if isDebug: print(\"last_hidden_state:\", hidden[0].size())\n",
    "        if isDebug: print(\"last_cell_state:\", hidden[1].size())\n",
    "\n",
    "        fc_inter_out = self.fc_inter(lstm_out.squeeze(1))\n",
    "        if isDebug: print(\"fc_inter_out:\", fc_inter_out.size())\n",
    "\n",
    "        dropout_out = self.dropout(fc_inter_out)\n",
    "\n",
    "        decoder_out = self.decoder(dropout_out)\n",
    "        if isDebug: print(\"decoder_out:\", decoder_out.size())\n",
    "\n",
    "        return decoder_out, hidden\n"
   ]
  },
  {
   "cell_type": "code",
   "execution_count": 71,
   "id": "8ddd73ab",
   "metadata": {},
   "outputs": [
    {
     "name": "stdout",
     "output_type": "stream",
     "text": [
      "<bound method Module.parameters of Net(\n",
      "  (embedding): Embedding(35, 100)\n",
      "  (lstm): LSTM(154, 200, batch_first=True)\n",
      "  (fc_inter): Linear(in_features=200, out_features=300, bias=True)\n",
      "  (dropout): Dropout(p=0.5, inplace=False)\n",
      "  (decoder): Linear(in_features=300, out_features=35, bias=True)\n",
      ")>\n"
     ]
    }
   ],
   "source": [
    "#모델 변수 선언\n",
    "model = Net(vocab_size=35, embedding_dim=100,\n",
    "                 nb_sex=2, nb_origin=52,\n",
    "                 lstm_nb_layers=1, lstm_hidden_dim=200,\n",
    "                fc_out=300, dropout_p=0.5, \n",
    "           ).to(device)\n",
    "print(model.parameters)\n",
    "sample = next(iter(data_loader.train_iter))\n",
    "\n",
    "sample_input = sample.babyname[:, :-1].to(device)\n",
    "sample_target = sample.babyname[:, 1:].to(device)\n",
    "sample_origin = sample.origin.float().to(device)\n",
    "sample_sex = sample.sex.float().to(device)"
   ]
  },
  {
   "cell_type": "code",
   "execution_count": 72,
   "id": "252405a4",
   "metadata": {},
   "outputs": [],
   "source": [
    "#hx, cx 배치값으로 초기화\n",
    "(hx, cx) = model.init_hidden(batch_size)"
   ]
  },
  {
   "cell_type": "code",
   "execution_count": 73,
   "id": "4390847f",
   "metadata": {},
   "outputs": [],
   "source": [
    "#cx의 첫번쨰 값을 모델에 적용하여 그래프로 출력\n",
    "cx_tmp = [cx[0, 0, 0].item()]\n",
    "for str_index in range(sample_input.size(1)):\n",
    "    output, (hx, cx) = model(sample_origin, sample_sex, sample_input[:, str_index], (hx, cx))\n",
    "    cx_tmp.append(cx[0, 0, 0].item())"
   ]
  },
  {
   "cell_type": "code",
   "execution_count": 74,
   "id": "5a2fb332",
   "metadata": {
    "scrolled": true
   },
   "outputs": [
    {
     "name": "stdout",
     "output_type": "stream",
     "text": [
      "[0.0, 0.11273039132356644, 0.13863664865493774, 0.12640617787837982, -0.15233594179153442, -0.32454702258110046, -0.11768341809511185, -0.08328302949666977, 0.19084608554840088, 0.18419045209884644, -0.21852068603038788, -0.4730810523033142]\n"
     ]
    },
    {
     "data": {
      "image/png": "[encoded data removed]",
      "text/plain": [
       "<Figure size 432x288 with 1 Axes>"
      ]
     },
     "metadata": {
      "needs_background": "light"
     },
     "output_type": "display_data"
    }
   ],
   "source": [
    "import matplotlib.pyplot as plt\n",
    "%matplotlib inline\n",
    "#Cell State 값 확인\n",
    "print(cx_tmp)\n",
    "plt.plot(cx_tmp)\n",
    "plt.show()\n",
    "#한번의 loop에 Cell State값이 변하고있음을 알 수 있다."
   ]
  },
  {
   "cell_type": "code",
   "execution_count": 75,
   "id": "1d33ebae",
   "metadata": {},
   "outputs": [],
   "source": [
    "def loss_fn(outputs, labels):\n",
    "    #다중분류를 위한 대표적인 손실함수\n",
    "    loss_function = nn.CrossEntropyLoss()\n",
    "    loss = loss_function(outputs, labels)\n",
    "    return loss"
   ]
  },
  {
   "cell_type": "code",
   "execution_count": 76,
   "id": "7842ea61",
   "metadata": {},
   "outputs": [],
   "source": [
    "#sample_target[:, -1]"
   ]
  },
  {
   "cell_type": "code",
   "execution_count": 77,
   "id": "de091eab",
   "metadata": {},
   "outputs": [
    {
     "name": "stdout",
     "output_type": "stream",
     "text": [
      "tensor(3.5495, grad_fn=<NllLossBackward0>)\n"
     ]
    }
   ],
   "source": [
    "current_loss = loss_fn(output, sample_target[:, -1])\n",
    "print(current_loss)"
   ]
  },
  {
   "cell_type": "code",
   "execution_count": 78,
   "id": "a06237dd",
   "metadata": {},
   "outputs": [],
   "source": [
    "import os\n",
    "import logging\n",
    "from sklearn.metrics import accuracy_score\n",
    "\n",
    "class MetricCalculator():\n",
    "    \"\"\"\n",
    "    loss와 accuracy를 기록하기 위한 도구입니다.\n",
    "    \"\"\"\n",
    "    def __init__(self):\n",
    "        self.accuracy = 0\n",
    "        self.loss_accumulated = 0\n",
    "        self.average_loss = 0\n",
    "        self.updated_cnt = 0\n",
    "\n",
    "        self.predicted_labels_holder = []\n",
    "        self.actual_labels_holder = []\n",
    "\n",
    "    def update(self, outputs, labels, loss):\n",
    "        self.updated_cnt += 1\n",
    "\n",
    "        predicted_labels = outputs.max(1)[1]\n",
    "        self.predicted_labels_holder.append(predicted_labels)\n",
    "        self.actual_labels_holder.append(labels)\n",
    "        self.loss_accumulated += loss\n",
    "\n",
    "\n",
    "    def calculate_metric(self):\n",
    "\n",
    "        predicted_labels = torch.cat(self.predicted_labels_holder).cpu().numpy()\n",
    "        actual_labels = torch.cat(self.actual_labels_holder).cpu().numpy()\n",
    "\n",
    "        self.accuracy = accuracy_score(actual_labels, predicted_labels)\n",
    "        self.average_loss = self.loss_accumulated / self.updated_cnt\n",
    "\n",
    "\n",
    "    def reset(self):\n",
    "        self.accuracy = 0\n",
    "        self.loss_accumulated = 0\n",
    "        self.average_loss = 0\n",
    "        self.updated_cnt = 0\n",
    "\n",
    "    def export(self):\n",
    "        return {\n",
    "            'loss': self.average_loss,\n",
    "            'accuracy': self.accuracy,\n",
    "        }\n",
    "    \n",
    "def save_checkpoint(state, is_best, checkpoint, epoch):\n",
    "    \"\"\"\n",
    "    모델을 저장합니다.\n",
    "    베스트 모델인 경우 카피본을 하나 더 만듭니다.\n",
    "    \"\"\"\n",
    "    filepath = os.path.join(checkpoint, 'e{:02d}.pth.tar'.format(epoch))\n",
    "    if not os.path.exists(checkpoint):\n",
    "        print(\"Checkpoint Directory does not exist! Making directory {}\".format(checkpoint))\n",
    "        os.makedirs(checkpoint)\n",
    "    else:\n",
    "        print(\"Checkpoint Directory exists!\")\n",
    "    torch.save(state, filepath)\n",
    "    if is_best:\n",
    "        shutil.copyfile(filepath, os.path.join(checkpoint, 'best.pth.tar'))\n",
    "\n",
    "\n",
    "def load_checkpoint(checkpoint, model, optimizer=None):\n",
    "    \"\"\"\n",
    "    저장된 모델 파라미터를 불러와 업데이트합니다.\n",
    "    \"\"\"\n",
    "    if not os.path.exists(checkpoint):\n",
    "        raise (\"File doesn't exist {}\".format(checkpoint))\n",
    "    checkpoint = torch.load(checkpoint)\n",
    "    model.load_state_dict(checkpoint['state_dict'])\n",
    "\n",
    "    if optimizer:\n",
    "        optimizer.load_state_dict(checkpoint['optim_dict'])\n",
    "\n",
    "    return checkpoint\n",
    "  \n",
    "def save_dict_to_json(d, json_path):\n",
    "    \"\"\"\n",
    "    dictionary를 json 파일로 저장한다.\n",
    "    \"\"\"\n",
    "    with open(json_path, 'w') as f:\n",
    "        # We need to convert the values to float for json (it doesn't accept np.array, np.float, )\n",
    "        d = {k: float(v) for k, v in d.items()}\n",
    "        json.dump(d, f, indent=4)"
   ]
  },
  {
   "cell_type": "code",
   "execution_count": 79,
   "id": "2d46677d",
   "metadata": {},
   "outputs": [],
   "source": [
    "#LSTM 모델을 통해 이름, 성별,국가 데이터를 학습시킵니다.\n",
    "def train(model, optimizer, loss_fn, data_iterator, num_steps):  \n",
    "    metric_watcher = MetricCalculator()\n",
    "\n",
    "    model.train()\n",
    "\n",
    "\n",
    "    for ix, batch in enumerate(data_iterator):\n",
    "        inputs = batch.babyname[:, :-1].to(device)\n",
    "        targets = batch.babyname[:, 1:].to(device)\n",
    "        sex = batch.sex.float().to(device)\n",
    "        origin = batch.origin.float().to(device)\n",
    "\n",
    "        hidden = model.init_hidden(inputs.size(0))\n",
    "\n",
    "        loss = 0.0\n",
    "\n",
    "        for step in range(inputs.size(1)):\n",
    "            outputs, hidden = model.forward(origin, sex, inputs[:, step], hidden)\n",
    "            current_loss = loss_fn(outputs, targets[:, step])\n",
    "\n",
    "            metric_watcher.update(outputs, targets[:, step], current_loss)\n",
    "            loss += current_loss\n",
    "\n",
    "        optimizer.zero_grad()\n",
    "        loss.backward()\n",
    "        optimizer.step()\n",
    "\n",
    "    metric_watcher.calculate_metric()\n",
    "    metrics_string = \"loss: {:05.3f}, acc: {:05.3f}\".format(\n",
    "        metric_watcher.average_loss,\n",
    "        metric_watcher.accuracy\n",
    "    )\n",
    "    print(\"- Train metrics: \" + metrics_string)"
   ]
  },
  {
   "cell_type": "code",
   "execution_count": 80,
   "id": "1559fb9b",
   "metadata": {},
   "outputs": [],
   "source": [
    "#loss 값을 담기 위한 list\n",
    "loss_list=[ ]\n",
    "\n",
    "def evaluate(model, loss_fn, data_iterator):  \n",
    "    metric_watcher = MetricCalculator()\n",
    "\n",
    "    # 모델에 적합시킨다.\n",
    "    model.eval()\n",
    "\n",
    "    for ix, batch in enumerate(data_iterator):\n",
    "        inputs = batch.babyname[:, :-1].to(device)\n",
    "        targets = batch.babyname[:, 1:].to(device)\n",
    "        sex = batch.sex.float().to(device)\n",
    "        origin = batch.origin.float().to(device)\n",
    "\n",
    "        hidden = model.init_hidden(inputs.size(0))\n",
    "\n",
    "        loss = 0.0\n",
    "        \n",
    "        for step in range(inputs.size(1)):\n",
    "            outputs, hidden = model.forward(origin, sex, inputs[:, step], hidden)\n",
    "            current_loss = loss_fn(outputs, targets[:, step])\n",
    "\n",
    "            metric_watcher.update(outputs, targets[:, step], current_loss)\n",
    "            loss += current_loss\n",
    "    metric_watcher.calculate_metric()\n",
    "    \n",
    "    metric_watcher.calculate_metric()\n",
    "    metrics_string = \"loss: {:05.3f}, acc: {:05.3f}\".format(\n",
    "        metric_watcher.average_loss,\n",
    "        metric_watcher.accuracy\n",
    "    )\n",
    "    loss_list.append(metric_watcher.average_loss)\n",
    "    print(\"- Eval metrics: \" + metrics_string)\n",
    "    return metric_watcher.export()"
   ]
  },
  {
   "cell_type": "code",
   "execution_count": 81,
   "id": "c36a30de",
   "metadata": {},
   "outputs": [],
   "source": [
    "def train_and_evaluate(model, train_data_iter, val_data_iter, optimizer, loss_fn, model_dir, num_epochs, restore_file=None):\n",
    "  \n",
    "\n",
    "    if restore_file is not None:\n",
    "        restore_path = os.path.join(args.model_dir, args.restore_file + '.pth.tar')\n",
    "        print(\"Restoring parameters from {}\".format(restore_path))\n",
    "        load_checkpoint(restore_path, model, optimizer)\n",
    "\n",
    "\n",
    "    best_val_acc = 0.0\n",
    "\n",
    "    for epoch in range(num_epochs):\n",
    "\n",
    "        print(\"Epoch {}/{}\".format(epoch + 1, num_epochs))\n",
    "\n",
    "        # compute number of batches in one epoch\n",
    "        num_steps = len(train_data_iter.dataset.examples) // batch_size + 1\n",
    "        train(model, optimizer, loss_fn, train_data_iter, num_steps)\n",
    "\n",
    "        val_metrics = evaluate(model, loss_fn, train_data_iter)\n",
    "        val_acc = val_metrics['accuracy']\n",
    "        is_best = val_acc > best_val_acc\n",
    "\n",
    "        # Save weights\n",
    "        save_checkpoint({'epoch': epoch+1,\n",
    "                               'state_dict': model.state_dict(),\n",
    "                               'optim_dict': optimizer.state_dict()},\n",
    "                              is_best=is_best,\n",
    "                              checkpoint=model_dir,\n",
    "                              epoch=epoch+1)\n",
    "\n",
    "        if is_best:\n",
    "            print(\"-- Found new best accuracy\")\n",
    "            best_val_acc = val_acc\n",
    "\n",
    "            best_json_path = os.path.join(model_dir, \"metrics_val_best_weights.json\")\n",
    "            save_dict_to_json(val_metrics, best_json_path)"
   ]
  },
  {
   "cell_type": "code",
   "execution_count": 82,
   "id": "ba272e68",
   "metadata": {
    "scrolled": true
   },
   "outputs": [
    {
     "name": "stdout",
     "output_type": "stream",
     "text": [
      "-- start training for 3 epoch(s)\n",
      "Epoch 1/3\n"
     ]
    },
    {
     "name": "stderr",
     "output_type": "stream",
     "text": [
      "D:\\Anaconda\\lib\\site-packages\\torchtext\\legacy\\data\\field.py:353: UserWarning: To copy construct from a tensor, it is recommended to use sourceTensor.clone().detach() or sourceTensor.clone().detach().requires_grad_(True), rather than torch.tensor(sourceTensor).\n",
      "  var = torch.tensor(arr, dtype=self.dtype, device=device)\n"
     ]
    },
    {
     "name": "stdout",
     "output_type": "stream",
     "text": [
      "- Train metrics: loss: 1.611, acc: 0.503\n"
     ]
    },
    {
     "name": "stderr",
     "output_type": "stream",
     "text": [
      "D:\\Anaconda\\lib\\site-packages\\torchtext\\legacy\\data\\field.py:353: UserWarning: To copy construct from a tensor, it is recommended to use sourceTensor.clone().detach() or sourceTensor.clone().detach().requires_grad_(True), rather than torch.tensor(sourceTensor).\n",
      "  var = torch.tensor(arr, dtype=self.dtype, device=device)\n"
     ]
    },
    {
     "name": "stdout",
     "output_type": "stream",
     "text": [
      "- Eval metrics: loss: 1.500, acc: 0.528\n",
      "Checkpoint Directory exists!\n",
      "-- Found new best accuracy\n",
      "Epoch 2/3\n"
     ]
    },
    {
     "name": "stderr",
     "output_type": "stream",
     "text": [
      "D:\\Anaconda\\lib\\site-packages\\torchtext\\legacy\\data\\field.py:353: UserWarning: To copy construct from a tensor, it is recommended to use sourceTensor.clone().detach() or sourceTensor.clone().detach().requires_grad_(True), rather than torch.tensor(sourceTensor).\n",
      "  var = torch.tensor(arr, dtype=self.dtype, device=device)\n"
     ]
    },
    {
     "name": "stdout",
     "output_type": "stream",
     "text": [
      "- Train metrics: loss: 1.486, acc: 0.537\n"
     ]
    },
    {
     "name": "stderr",
     "output_type": "stream",
     "text": [
      "D:\\Anaconda\\lib\\site-packages\\torchtext\\legacy\\data\\field.py:353: UserWarning: To copy construct from a tensor, it is recommended to use sourceTensor.clone().detach() or sourceTensor.clone().detach().requires_grad_(True), rather than torch.tensor(sourceTensor).\n",
      "  var = torch.tensor(arr, dtype=self.dtype, device=device)\n"
     ]
    },
    {
     "name": "stdout",
     "output_type": "stream",
     "text": [
      "- Eval metrics: loss: 1.420, acc: 0.553\n",
      "Checkpoint Directory exists!\n",
      "-- Found new best accuracy\n",
      "Epoch 3/3\n"
     ]
    },
    {
     "name": "stderr",
     "output_type": "stream",
     "text": [
      "D:\\Anaconda\\lib\\site-packages\\torchtext\\legacy\\data\\field.py:353: UserWarning: To copy construct from a tensor, it is recommended to use sourceTensor.clone().detach() or sourceTensor.clone().detach().requires_grad_(True), rather than torch.tensor(sourceTensor).\n",
      "  var = torch.tensor(arr, dtype=self.dtype, device=device)\n"
     ]
    },
    {
     "name": "stdout",
     "output_type": "stream",
     "text": [
      "- Train metrics: loss: 1.440, acc: 0.550\n"
     ]
    },
    {
     "name": "stderr",
     "output_type": "stream",
     "text": [
      "D:\\Anaconda\\lib\\site-packages\\torchtext\\legacy\\data\\field.py:353: UserWarning: To copy construct from a tensor, it is recommended to use sourceTensor.clone().detach() or sourceTensor.clone().detach().requires_grad_(True), rather than torch.tensor(sourceTensor).\n",
      "  var = torch.tensor(arr, dtype=self.dtype, device=device)\n"
     ]
    },
    {
     "name": "stdout",
     "output_type": "stream",
     "text": [
      "- Eval metrics: loss: 1.389, acc: 0.559\n",
      "Checkpoint Directory exists!\n",
      "-- Found new best accuracy\n"
     ]
    }
   ],
   "source": [
    "import torch.optim as optim\n",
    "import shutil\n",
    "import json\n",
    "# hyper parameters\n",
    "learning_rate = 0.001\n",
    "weight_decay = 0.001\n",
    "model_dir = \"saved\"\n",
    "#노트북 Ram 한계로 인하여 epoch는 3이 최대였습니다.\n",
    "num_epochs = 3\n",
    "\n",
    "train_iter = data_loader.train_iter\n",
    "val_iter = data_loader.val_iter\n",
    "\n",
    "# 모델\n",
    "model = Net(vocab_size=35, embedding_dim=100,\n",
    "                 nb_sex=2, nb_origin=52,\n",
    "                 lstm_nb_layers=1, lstm_hidden_dim=200,\n",
    "                fc_out=300, dropout_p=0.5, \n",
    "           ).to(device)\n",
    "\n",
    "# 최적화 알고리즘\n",
    "optimizer = optim.Adam(model.parameters(), lr=learning_rate, weight_decay=weight_decay)\n",
    "\n",
    "# 손실함수\n",
    "loss_fn = loss_fn\n",
    "\n",
    "# 학습 및 평가\n",
    "print(\"-- start training for {} epoch(s)\".format(num_epochs))\n",
    "train_and_evaluate(model, train_iter, val_iter, optimizer, loss_fn, model_dir, num_epochs)"
   ]
  },
  {
   "cell_type": "code",
   "execution_count": 96,
   "id": "6d2943b0",
   "metadata": {},
   "outputs": [
    {
     "data": {
      "text/plain": [
       "[<matplotlib.lines.Line2D at 0x20d014dc3d0>]"
      ]
     },
     "execution_count": 96,
     "metadata": {},
     "output_type": "execute_result"
    },
    {
     "data": {
      "image/png": "[encoded data removed]",
      "text/plain": [
       "<Figure size 432x288 with 1 Axes>"
      ]
     },
     "metadata": {
      "needs_background": "light"
     },
     "output_type": "display_data"
    }
   ],
   "source": [
    "import matplotlib.pyplot as plt\n",
    "import matplotlib.ticker as ticker\n",
    "#print(loss_list)\n",
    "#stack 메소드를 통해 list안 각각의 토치원소들을 하나의 토치리스트로 변환\n",
    "loss=torch.stack(loss_list)\n",
    "#print(loss)\n",
    "loss_l=loss.tolist()\n",
    "#print(loss_l)\n",
    "#epoch에 따른 loss값을 그래프로 나타냄\n",
    "plt.figure()\n",
    "plt.xlabel('Epochs')\n",
    "plt.ylabel('Losses')\n",
    "plt.plot(loss_l)"
   ]
  },
  {
   "cell_type": "code",
   "execution_count": 84,
   "id": "ecda31a2",
   "metadata": {},
   "outputs": [],
   "source": [
    "best_model_path = \"saved/best.pth.tar\"\n",
    "\n",
    "checkpoint = load_checkpoint(best_model_path, model)"
   ]
  },
  {
   "cell_type": "code",
   "execution_count": 85,
   "id": "b02ff9c8",
   "metadata": {},
   "outputs": [],
   "source": [
    "def sample(data_loader, net, prime, sex, origin):\n",
    "    \"\"\"\n",
    "    문화권, 성별과 시작 글자묶음을 입력받아\n",
    "    다음 글자들의 확률을 리턴한다.\n",
    "    \"\"\"\n",
    "    origin_tensor = data_loader.ORIGIN.process([origin]).float().to(device)\n",
    "    sex_tensor = data_loader.SEX.process([sex]).float().to(device)\n",
    "\n",
    "    prime = prime.lower()\n",
    "    prime_tensor = data_loader.BABYNAME.process([prime])[:, :-1].to(device)\n",
    "    bsz, prime_tensor_length = prime_tensor.size()\n",
    "\n",
    "    # 인풋을 모델에 넣어 출력합니다.\n",
    "    net.eval()\n",
    "    with torch.no_grad():\n",
    "        # batch_size = 1\n",
    "        hidden = net.init_hidden(1)\n",
    "\n",
    "        for step in range(prime_tensor_length):\n",
    "            with torch.no_grad():\n",
    "                outputs, hidden = net(origin_tensor, sex_tensor, prime_tensor[:, step], hidden)\n",
    "            probabilities = F.softmax(outputs, 1)\n",
    "\n",
    "    return probabilities.squeeze()"
   ]
  },
  {
   "cell_type": "code",
   "execution_count": 86,
   "id": "07d49747",
   "metadata": {},
   "outputs": [],
   "source": [
    "from collections import OrderedDict\n",
    "import numpy as np\n",
    "\"\"\"\n",
    "Beam-Search를 통해 후보 확률 계산\n",
    "\"\"\"\n",
    "\"\"\"\n",
    "beam-search 부분은 난이도가 어려워 이해를 제대로 하지못해 발표영상에서 삭제하였습니다.\n",
    "\"\"\"\n",
    "def clean_beam_basket(basket, beam_width):\n",
    "    _tmp_basket = basket.copy()\n",
    "    to_remove = sorted(_tmp_basket.items(), key=lambda x: x[1], reverse=True)[beam_width:]\n",
    "    for item in to_remove:\n",
    "        _tmp_basket.pop(item[0])\n",
    "\n",
    "    return _tmp_basket\n",
    "\n",
    "def beam_search(data_loader, net, beam_width, alpha, prime, sex, origin):\n",
    "    # print(\"Sampling a {} {} name beginning with {}..\".format(origin, sex, prime))\n",
    "\n",
    "    beam_basket = OrderedDict()\n",
    "    beam_basket[prime] = 0.0\n",
    "\n",
    "    counter = 0\n",
    "    \n",
    "    while True:\n",
    "        counter += 1\n",
    "\n",
    "        # 바스켓을 청소합니다.\n",
    "        beam_basket = clean_beam_basket(beam_basket, beam_width)\n",
    "\n",
    "        # 만약 바스켓에 모든 아이템이 <eos>가 있으면 루프를 멈춘다.\n",
    "        eos_cnt = 0\n",
    "        for k in beam_basket.keys():\n",
    "            if \"<eos>\" in k:\n",
    "                eos_cnt += 1\n",
    "        if eos_cnt == beam_width:\n",
    "            # print(\"all items have <eos>\")\n",
    "            break\n",
    "        new_entries = {}\n",
    "        to_remove = []\n",
    "        for k in beam_basket.keys():\n",
    "            if \"<eos>\" not in k:\n",
    "                probabilities = sample(data_loader, net, prime=k, sex=sex, origin=origin)\n",
    "                for ix, prob in enumerate(probabilities):\n",
    "                    new_k = k + data_loader.BABYNAME.vocab.itos[ix]\n",
    "                    added_probability = beam_basket[k] + torch.log(prob).item()\n",
    "                    len_k = len(k.replace(\"<eos>\", \"\"))\n",
    "                    normalized_probability = (1 / (len(k) ** alpha)) * added_probability\n",
    "                    new_entries[new_k] = normalized_probability\n",
    "                to_remove.append(k)\n",
    "    \n",
    "        # 그리고 기존 key를 beam_basket에서 지운다.\n",
    "        for k in to_remove:\n",
    "            beam_basket.pop(k)\n",
    "\n",
    "        # 새로운 키를 바스켓에 채워넣는다.\n",
    "        for k, v in new_entries.items():\n",
    "            beam_basket[k] = v\n",
    "\n",
    "    final_list = []\n",
    "    for k, v in beam_basket.items():\n",
    "        refined_k = k.replace(\"<eos>\", \"\").capitalize()\n",
    "        final_list.append(refined_k)\n",
    "        final_prob = np.exp(v)\n",
    "\n",
    "    return final_list\n"
   ]
  },
  {
   "cell_type": "code",
   "execution_count": 87,
   "id": "124b6337",
   "metadata": {},
   "outputs": [],
   "source": [
    "#최종 이름 출력함수\n",
    "def final_names(data_loader, model_dir, prime, sex, origin, beam_width=5, alpha=0.7):\n",
    "    model = Net(vocab_size=35, embedding_dim=100,\n",
    "                 nb_sex=2, nb_origin=52,\n",
    "                 lstm_nb_layers=1, lstm_hidden_dim=200,\n",
    "                fc_out=300, dropout_p=0.5, \n",
    "           ).to(device)\n",
    "    \n",
    "    weight_path = os.path.join(model_dir, \"best.pth.tar\")\n",
    "    checkpoint = load_checkpoint(weight_path, model)\n",
    "\n",
    "    final_list = beam_search(data_loader, model, prime=prime, sex=sex, origin=origin, beam_width=beam_width, alpha=alpha)\n",
    "   \n",
    "    return final_list"
   ]
  },
  {
   "cell_type": "code",
   "execution_count": 88,
   "id": "40169fc5",
   "metadata": {},
   "outputs": [],
   "source": [
    "#final_names(data_loader, \"saved\", \"Ma\", \"girl\", \"British\")"
   ]
  },
  {
   "cell_type": "code",
   "execution_count": 89,
   "id": "f28b9cf4",
   "metadata": {},
   "outputs": [],
   "source": [
    "#final_names(data_loader, \"saved\", \"Ma\", \"girl\", \"Japanese\")"
   ]
  },
  {
   "cell_type": "code",
   "execution_count": 90,
   "id": "31e310b5",
   "metadata": {},
   "outputs": [
    {
     "name": "stderr",
     "output_type": "stream",
     "text": [
      "D:\\Anaconda\\lib\\site-packages\\torchtext\\legacy\\data\\field.py:353: UserWarning: To copy construct from a tensor, it is recommended to use sourceTensor.clone().detach() or sourceTensor.clone().detach().requires_grad_(True), rather than torch.tensor(sourceTensor).\n",
      "  var = torch.tensor(arr, dtype=self.dtype, device=device)\n"
     ]
    },
    {
     "data": {
      "text/plain": [
       "['Hyelon', 'Hyerin', 'Hyeron', 'Hyerino', 'Hyemino']"
      ]
     },
     "execution_count": 90,
     "metadata": {},
     "output_type": "execute_result"
    }
   ],
   "source": [
    "final_names(data_loader, \"saved\", \"hye\", \"boy\", \"Spanish\")"
   ]
  },
  {
   "cell_type": "code",
   "execution_count": 91,
   "id": "47ba52b9",
   "metadata": {},
   "outputs": [
    {
     "data": {
      "text/plain": [
       "['Hyean', 'Hyein', 'Hyeon', 'Hyeun', 'Hyeeun']"
      ]
     },
     "execution_count": 91,
     "metadata": {},
     "output_type": "execute_result"
    }
   ],
   "source": [
    "#스페인과 비교하여 한국의 작명 스타일이 드러남.\n",
    "final_names(data_loader, \"saved\", \"hye\", \"girl\", \"Korea\")"
   ]
  },
  {
   "cell_type": "code",
   "execution_count": 92,
   "id": "9115c793",
   "metadata": {
    "scrolled": false
   },
   "outputs": [
    {
     "data": {
      "text/plain": [
       "['Yumi', 'Yuko', 'Yushi', 'Yumika', 'Yumiko']"
      ]
     },
     "execution_count": 92,
     "metadata": {},
     "output_type": "execute_result"
    }
   ],
   "source": [
    "final_names(data_loader, \"saved\", \"yu\", \"girl\", \"Japanese\")"
   ]
  },
  {
   "cell_type": "code",
   "execution_count": 93,
   "id": "c6f16cc6",
   "metadata": {},
   "outputs": [
    {
     "data": {
      "text/plain": [
       "['Yun', 'Yunne', 'Yunhi', 'Yumin', 'Yunney']"
      ]
     },
     "execution_count": 93,
     "metadata": {},
     "output_type": "execute_result"
    }
   ],
   "source": [
    "final_names(data_loader, \"saved\", \"yu\", \"girl\", \"Korea\")"
   ]
  },
  {
   "cell_type": "code",
   "execution_count": 94,
   "id": "df379733",
   "metadata": {},
   "outputs": [
    {
     "data": {
      "text/plain": [
       "['Yulan', 'Yusty', 'Yuland', 'Yustin', 'Yushan']"
      ]
     },
     "execution_count": 94,
     "metadata": {},
     "output_type": "execute_result"
    }
   ],
   "source": [
    "final_names(data_loader, \"saved\", \"yu\", \"boy\", \"American\")"
   ]
  }
 ],
 "metadata": {
  "kernelspec": {
   "display_name": "Python 3",
   "language": "python",
   "name": "python3"
  },
  "language_info": {
   "codemirror_mode": {
    "name": "ipython",
    "version": 3
   },
   "file_extension": ".py",
   "mimetype": "text/x-python",
   "name": "python",
   "nbconvert_exporter": "python",
   "pygments_lexer": "ipython3",
   "version": "3.8.8"
  }
 },
 "nbformat": 4,
 "nbformat_minor": 5
}
